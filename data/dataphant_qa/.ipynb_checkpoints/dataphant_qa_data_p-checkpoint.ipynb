{
 "cells": [
  {
   "cell_type": "code",
   "execution_count": 10,
   "id": "9725e78e-b41e-40ba-8c24-6ab9a6920229",
   "metadata": {},
   "outputs": [
    {
     "data": {
      "text/plain": [
       "'0717-1115'"
      ]
     },
     "execution_count": 10,
     "metadata": {},
     "output_type": "execute_result"
    }
   ],
   "source": [
    "import datetime\n",
    "t = datetime.datetime.today()\n",
    "t.strftime('%m%d-%H%M')"
   ]
  },
  {
   "cell_type": "code",
   "execution_count": 14,
   "id": "fcbf889f-15e2-4347-9ba9-c4765eb90ea5",
   "metadata": {},
   "outputs": [
    {
     "data": {
      "text/plain": [
       "'/mnt/workspace/gpt/LLaMA-Efficient-Tuning'"
      ]
     },
     "execution_count": 14,
     "metadata": {},
     "output_type": "execute_result"
    }
   ],
   "source": [
    "pwd"
   ]
  },
  {
   "cell_type": "code",
   "execution_count": 18,
   "id": "fb0faf4c-1136-4b1b-b881-0c8ad5a0ec48",
   "metadata": {},
   "outputs": [
    {
     "name": "stdin",
     "output_type": "stream",
     "text": [
      "Enter Question:  哪些指标应该被定级为全局I级指标？\n",
      "Enter Answer:  实验自动关注I级指标为alibaba.com的平台战略级别的指标，与度量年规KPI是否达成直接相关，经常与多个业务域有关，不局限于一个业务域。实验自动关注I级指标应该被所有实验观测，包括但不限于organic uv，全局AB3，全局PB，全局gmv，广告消耗，商家续签率，等等。P0指标需要满足在实验中“可关注的”的条件（带分流Key，且在历史中实验期间能观测到有显著的变化效果，观测窗口不能太长期）。 数科团队按照所属业务域的分流Key去拆解聚合I级指标并负责。 \n",
      "Enter if Stop, continue is 0 1\n"
     ]
    },
    {
     "name": "stdout",
     "output_type": "stream",
     "text": [
      "{'instruction': '哪些指标应该被定级为全局I级指标？', 'input': '', 'output': '实验自动关注I级指标为alibaba.com的平台战略级别的指标，与度量年规KPI是否达成直接相关，经常与多个业务域有关，不局限于一个业务域。实验自动关注I级指标应该被所有实验观测，包括但不限于organic uv，全局AB3，全局PB，全局gmv，广告消耗，商家续签率，等等。P0指标需要满足在实验中“可关注的”的条件（带分流Key，且在历史中实验期间能观测到有显著的变化效果，观测窗口不能太长期）。 数科团队按照所属业务域的分流Key去拆解聚合I级指标并负责。 ', 'history': None}\n"
     ]
    }
   ],
   "source": [
    "import json\n",
    "\n",
    "data_list = []\n",
    "stop = False\n",
    "t = datetime.datetime.today()\n",
    "while not stop:\n",
    "    instruction = input(\"Enter Question: \")\n",
    "    output = input(\"Enter Answer: \")\n",
    "    stop = int(input('Enter if Stop, continue is 0'))\n",
    "    if not instruction or not output:\n",
    "      continue\n",
    "    dict_ = { \"instruction\": instruction,\n",
    "    \"input\": \"\",\n",
    "    \"output\": output,\n",
    "    \"history\":None}\n",
    "    print(dict_)\n",
    "    data_list.append(dict_)\n",
    "    with open(f\"/mnt/workspace/gpt/LLaMA-Efficient-Tuning/data/dataphant_qa/ab_qa_{t.strftime('%m%d-%H%M%S')}.json\", 'w',encoding='utf-8') as fp:\n",
    "      json.dump(data_list, fp,  ensure_ascii=False)"
   ]
  },
  {
   "cell_type": "code",
   "execution_count": null,
   "id": "5f9c488b-6255-4c8f-aee3-dea040a9794b",
   "metadata": {},
   "outputs": [],
   "source": []
  }
 ],
 "metadata": {
  "kernelspec": {
   "display_name": "Python 3 (ipykernel)",
   "language": "python",
   "name": "python3"
  },
  "language_info": {
   "codemirror_mode": {
    "name": "ipython",
    "version": 3
   },
   "file_extension": ".py",
   "mimetype": "text/x-python",
   "name": "python",
   "nbconvert_exporter": "python",
   "pygments_lexer": "ipython3",
   "version": "3.9.15"
  }
 },
 "nbformat": 4,
 "nbformat_minor": 5
}
