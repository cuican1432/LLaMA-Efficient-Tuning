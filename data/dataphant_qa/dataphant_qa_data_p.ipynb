{
 "cells": [
  {
   "cell_type": "code",
   "execution_count": 10,
   "id": "9725e78e-b41e-40ba-8c24-6ab9a6920229",
   "metadata": {},
   "outputs": [
    {
     "data": {
      "text/plain": [
       "'0717-1115'"
      ]
     },
     "execution_count": 10,
     "metadata": {},
     "output_type": "execute_result"
    }
   ],
   "source": [
    "import datetime\n",
    "t = datetime.datetime.today()\n",
    "t.strftime('%m%d-%H%M')"
   ]
  },
  {
   "cell_type": "code",
   "execution_count": 14,
   "id": "fcbf889f-15e2-4347-9ba9-c4765eb90ea5",
   "metadata": {},
   "outputs": [
    {
     "data": {
      "text/plain": [
       "'/mnt/workspace/gpt/LLaMA-Efficient-Tuning'"
      ]
     },
     "execution_count": 14,
     "metadata": {},
     "output_type": "execute_result"
    }
   ],
   "source": [
    "pwd"
   ]
  },
  {
   "cell_type": "code",
   "execution_count": 19,
   "id": "fb0faf4c-1136-4b1b-b881-0c8ad5a0ec48",
   "metadata": {},
   "outputs": [
    {
     "name": "stdin",
     "output_type": "stream",
     "text": [
      "Enter Question:  实验应该关注哪些指标？\n",
      "Enter Answer:  我们建议实验遵循的流程如下： 研究：基于实验开始前收集到的数据，具体提出问题及改进方法 提出假设：建立一个关于变量与效果的基本假设（假设可以量化） 创建变量：基于当前评估假设为基础 运行实验：实验期间收集到指标数据验证基本假设是否有效 衡量结果：新的变量是否带来具有统计学意义的改进（并选择效果最佳的变量）  其中衡量结果为验证基本假设有力的支持，观测什么指标至关重要，实验观测指标需要具备一定特性：a. 短期内可测量，b. 足够灵敏和及时。实验关注的指标和选取指标思路，我们分为几类： ● OEC（综合评估标准）：衡量实验是否成功，判断实验是否推全（可以在核心指标或产品指标中选择）。设计标准：a. 必须满足短期内（实验期间）可测量， 同时对与长期战略目标有因果驱动作用；b. 判断假设&目标是否成功，可以是多个目标；c.具体指标可以是一个指标或多个指标，或加权组合构成的一个指标（目前平台业务不常用）。举个搜索例子，OCE可以是买家使用搜索引擎的衡量（人均会话数）、相关性的衡量（成功的回话数、一次成功搜索的耗时）以及广告营收的综合考量等等） ● 核心指标（经营指标）：业务关注的核心指标，首先要清楚业务或产品所处的阶段，根据这个阶段目标来确定核心指标。例如，在业务或产品的起步阶段（目前平台业务阶段多处于此阶段），目标更多的侧重于增加用户使用，其核心指标更应该集中在使用率、点击率、转化率等指标；而在业务产品的成熟及稳定期，此时业务目标逐渐转向的是产品收益、用户的使用留存情况，核心指标则应该重点关注在ROI、留存率、使用频次、停留时长等。 ● 产品指标（驱动指标）：帮助我们理解核心指标为什么改变的指标，反映了一个思维上的因果模型。很多有用的指标框架可以帮助考量驱动指标：一般常用用户漏斗方法，即梳理用户动线的行为指标，其他还有HEART框架、AAARR框架等。 ● 护栏指标：帮助我们戒备成功指标给予错误信号的情况。护栏指标指的是实验核心指标增长的同时，不能降低的指标。它并不直接表示实验组是否成功，但是从提供另一种维度来描述实验而提供了更全面的分析。例如：如果为了优化一个网页的控件点击率(如商家发品按钮)，那么“点击率”可以设为核心指标，“点击用户人数”设为护栏指标。 ● 另外，还有小技巧，例如观察比率类指标时， 请同时把添加分子、分母数值类指标，来确认转化率的提升原因。若转化率提升，同时观测若为分子减少引起则非一个正向效果，若分母同时同时分子不变或提升带来的转化率提升为正向效果。\n",
      "Enter if Stop, continue is 0 1\n"
     ]
    },
    {
     "name": "stdout",
     "output_type": "stream",
     "text": [
      "{'instruction': '实验应该关注哪些指标？', 'input': '', 'output': '我们建议实验遵循的流程如下： 研究：基于实验开始前收集到的数据，具体提出问题及改进方法 提出假设：建立一个关于变量与效果的基本假设（假设可以量化） 创建变量：基于当前评估假设为基础 运行实验：实验期间收集到指标数据验证基本假设是否有效 衡量结果：新的变量是否带来具有统计学意义的改进（并选择效果最佳的变量）  其中衡量结果为验证基本假设有力的支持，观测什么指标至关重要，实验观测指标需要具备一定特性：a. 短期内可测量，b. 足够灵敏和及时。实验关注的指标和选取指标思路，我们分为几类： ● OEC（综合评估标准）：衡量实验是否成功，判断实验是否推全（可以在核心指标或产品指标中选择）。设计标准：a. 必须满足短期内（实验期间）可测量， 同时对与长期战略目标有因果驱动作用；b. 判断假设&目标是否成功，可以是多个目标；c.具体指标可以是一个指标或多个指标，或加权组合构成的一个指标（目前平台业务不常用）。举个搜索例子，OCE可以是买家使用搜索引擎的衡量（人均会话数）、相关性的衡量（成功的回话数、一次成功搜索的耗时）以及广告营收的综合考量等等） ● 核心指标（经营指标）：业务关注的核心指标，首先要清楚业务或产品所处的阶段，根据这个阶段目标来确定核心指标。例如，在业务或产品的起步阶段（目前平台业务阶段多处于此阶段），目标更多的侧重于增加用户使用，其核心指标更应该集中在使用率、点击率、转化率等指标；而在业务产品的成熟及稳定期，此时业务目标逐渐转向的是产品收益、用户的使用留存情况，核心指标则应该重点关注在ROI、留存率、使用频次、停留时长等。 ● 产品指标（驱动指标）：帮助我们理解核心指标为什么改变的指标，反映了一个思维上的因果模型。很多有用的指标框架可以帮助考量驱动指标：一般常用用户漏斗方法，即梳理用户动线的行为指标，其他还有HEART框架、AAARR框架等。 ● 护栏指标：帮助我们戒备成功指标给予错误信号的情况。护栏指标指的是实验核心指标增长的同时，不能降低的指标。它并不直接表示实验组是否成功，但是从提供另一种维度来描述实验而提供了更全面的分析。例如：如果为了优化一个网页的控件点击率(如商家发品按钮)，那么“点击率”可以设为核心指标，“点击用户人数”设为护栏指标。 ● 另外，还有小技巧，例如观察比率类指标时， 请同时把添加分子、分母数值类指标，来确认转化率的提升原因。若转化率提升，同时观测若为分子减少引起则非一个正向效果，若分母同时同时分子不变或提升带来的转化率提升为正向效果。', 'history': None}\n"
     ]
    }
   ],
   "source": [
    "import json\n",
    "\n",
    "data_list = []\n",
    "stop = False\n",
    "t = datetime.datetime.today()\n",
    "while not stop:\n",
    "    instruction = input(\"Enter Question: \")\n",
    "    output = input(\"Enter Answer: \")\n",
    "    stop = int(input('Enter if Stop, continue is 0'))\n",
    "    if not instruction or not output:\n",
    "      continue\n",
    "    dict_ = { \"instruction\": instruction,\n",
    "    \"input\": \"\",\n",
    "    \"output\": output,\n",
    "    \"history\":None}\n",
    "    print(dict_)\n",
    "    data_list.append(dict_)\n",
    "    with open(f\"/mnt/workspace/gpt/LLaMA-Efficient-Tuning/data/dataphant_qa/ab_qa_{t.strftime('%m%d-%H%M%S')}.json\", 'w',encoding='utf-8') as fp:\n",
    "      json.dump(data_list, fp,  ensure_ascii=False)"
   ]
  },
  {
   "cell_type": "code",
   "execution_count": null,
   "id": "5f9c488b-6255-4c8f-aee3-dea040a9794b",
   "metadata": {},
   "outputs": [],
   "source": []
  }
 ],
 "metadata": {
  "kernelspec": {
   "display_name": "Python 3 (ipykernel)",
   "language": "python",
   "name": "python3"
  },
  "language_info": {
   "codemirror_mode": {
    "name": "ipython",
    "version": 3
   },
   "file_extension": ".py",
   "mimetype": "text/x-python",
   "name": "python",
   "nbconvert_exporter": "python",
   "pygments_lexer": "ipython3",
   "version": "3.9.15"
  }
 },
 "nbformat": 4,
 "nbformat_minor": 5
}
